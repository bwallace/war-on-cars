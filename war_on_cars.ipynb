{
 "cells": [
  {
   "cell_type": "markdown",
   "id": "fee6c9ec",
   "metadata": {},
   "source": [
    "### Analyzing the language in news articles\n",
    "\n",
    "How are accidents involving pedestrians and cyclists described?"
   ]
  },
  {
   "cell_type": "code",
   "execution_count": 15,
   "id": "795ee74a",
   "metadata": {},
   "outputs": [],
   "source": [
    "import pandas as pd\n",
    "import spacy\n",
    "\n",
    "import statsmodels.api as sm\n",
    "import statsmodels.formula.api as smf"
   ]
  },
  {
   "cell_type": "code",
   "execution_count": 2,
   "id": "0195d3dc",
   "metadata": {},
   "outputs": [],
   "source": [
    "nlp = spacy.load('en_core_web_lg')"
   ]
  },
  {
   "cell_type": "code",
   "execution_count": 5,
   "id": "0c290347",
   "metadata": {},
   "outputs": [],
   "source": [
    "def is_passive(sent) -> bool:\n",
    "    '''\n",
    "    TODO this is just something I put together in a very adhoc way and\n",
    "    is probably not great, although sort of seems to do OK. Should improve.\n",
    "    '''\n",
    "    doc = nlp(sent)\n",
    "    \n",
    "    tags = [token.dep_ for token in doc]\n",
    "    \n",
    "    contains_agent = 'agent' in tags\n",
    "    contains_nsubjpass = 'nsubjpass' in tags\n",
    "    contains_aux_verb = 'auxpass' in tags \n",
    "    \n",
    "    return contains_agent or contains_nsubjpass or contains_aux_verb"
   ]
  },
  {
   "cell_type": "code",
   "execution_count": 9,
   "id": "081a3ba6",
   "metadata": {},
   "outputs": [
    {
     "data": {
      "text/plain": [
       "True"
      ]
     },
     "execution_count": 9,
     "metadata": {},
     "output_type": "execute_result"
    }
   ],
   "source": [
    "is_passive(\"A pedestrian was struck\")"
   ]
  },
  {
   "cell_type": "code",
   "execution_count": 10,
   "id": "29f87394",
   "metadata": {},
   "outputs": [
    {
     "data": {
      "text/plain": [
       "False"
      ]
     },
     "execution_count": 10,
     "metadata": {},
     "output_type": "execute_result"
    }
   ],
   "source": [
    "is_passive(\"A car struck a pedestrian\")"
   ]
  },
  {
   "cell_type": "markdown",
   "id": "8d145e07",
   "metadata": {},
   "source": [
    "This data was scraped from https://www.newsbreak.com/. @TODO George can fill in details."
   ]
  },
  {
   "cell_type": "code",
   "execution_count": 11,
   "id": "e7f0f09c",
   "metadata": {},
   "outputs": [
    {
     "data": {
      "text/html": [
       "<div>\n",
       "<style scoped>\n",
       "    .dataframe tbody tr th:only-of-type {\n",
       "        vertical-align: middle;\n",
       "    }\n",
       "\n",
       "    .dataframe tbody tr th {\n",
       "        vertical-align: top;\n",
       "    }\n",
       "\n",
       "    .dataframe thead th {\n",
       "        text-align: right;\n",
       "    }\n",
       "</style>\n",
       "<table border=\"1\" class=\"dataframe\">\n",
       "  <thead>\n",
       "    <tr style=\"text-align: right;\">\n",
       "      <th></th>\n",
       "      <th>Unnamed: 0</th>\n",
       "      <th>Date</th>\n",
       "      <th>City</th>\n",
       "      <th>State</th>\n",
       "      <th>Title</th>\n",
       "      <th>Short Description</th>\n",
       "      <th>Long Description</th>\n",
       "      <th>Involves cyclist or pedestrian</th>\n",
       "      <th>URL</th>\n",
       "    </tr>\n",
       "  </thead>\n",
       "  <tbody>\n",
       "    <tr>\n",
       "      <th>0</th>\n",
       "      <td>0</td>\n",
       "      <td>2022-01-12</td>\n",
       "      <td>Cleves</td>\n",
       "      <td>OH</td>\n",
       "      <td>2 injured in wrong-way crash on I-275 in Kento...</td>\n",
       "      <td>KENTON COUNTY, Ky. — Two people were injured i...</td>\n",
       "      <td>KENTON COUNTY, Ky. — Two people were injured i...</td>\n",
       "      <td>False</td>\n",
       "      <td>https://www.newsbreak.com/news/2483276062044/2...</td>\n",
       "    </tr>\n",
       "    <tr>\n",
       "      <th>1</th>\n",
       "      <td>1</td>\n",
       "      <td>2022-01-11</td>\n",
       "      <td>Cleves</td>\n",
       "      <td>OH</td>\n",
       "      <td>Pedestrian hit, killed in West Chester on Satu...</td>\n",
       "      <td>A spokesperson for West Chester Township said ...</td>\n",
       "      <td>Read the latest Cincinnati, Ohio news and weat...</td>\n",
       "      <td>True</td>\n",
       "      <td>https://www.newsbreak.com/news/2483036184238/p...</td>\n",
       "    </tr>\n",
       "    <tr>\n",
       "      <th>2</th>\n",
       "      <td>2</td>\n",
       "      <td>2022-01-11</td>\n",
       "      <td>Cleves</td>\n",
       "      <td>OH</td>\n",
       "      <td>Officials working to determine cause of fiery ...</td>\n",
       "      <td>KENTON COUNTY, Ky. (WXIX) - The fiery explosio...</td>\n",
       "      <td>KENTON COUNTY, Ky. (WXIX) - The fiery explosio...</td>\n",
       "      <td>False</td>\n",
       "      <td>https://www.newsbreak.com/news/2483089711632/o...</td>\n",
       "    </tr>\n",
       "    <tr>\n",
       "      <th>3</th>\n",
       "      <td>3</td>\n",
       "      <td>2022-01-12</td>\n",
       "      <td>Cleves</td>\n",
       "      <td>OH</td>\n",
       "      <td>Injuries reported after crash on I-275 in Nort...</td>\n",
       "      <td>FT. WRIGHT, Ky. (WKRC) - Injuries were reporte...</td>\n",
       "      <td>FT. WRIGHT, Ky. (WKRC) - Injuries were reporte...</td>\n",
       "      <td>False</td>\n",
       "      <td>https://www.newsbreak.com/news/2483307274479/i...</td>\n",
       "    </tr>\n",
       "    <tr>\n",
       "      <th>4</th>\n",
       "      <td>4</td>\n",
       "      <td>2022-01-11</td>\n",
       "      <td>Cleves</td>\n",
       "      <td>OH</td>\n",
       "      <td>Covington residents urged to shelter in place ...</td>\n",
       "      <td>KENTON COUNTY, Ky. (WXIX) - A shelter-in-place...</td>\n",
       "      <td>KENTON COUNTY, Ky. (WXIX) - A shelter-in-place...</td>\n",
       "      <td>False</td>\n",
       "      <td>https://www.newsbreak.com/news/2482198518315/c...</td>\n",
       "    </tr>\n",
       "  </tbody>\n",
       "</table>\n",
       "</div>"
      ],
      "text/plain": [
       "   Unnamed: 0        Date    City State  \\\n",
       "0           0  2022-01-12  Cleves    OH   \n",
       "1           1  2022-01-11  Cleves    OH   \n",
       "2           2  2022-01-11  Cleves    OH   \n",
       "3           3  2022-01-12  Cleves    OH   \n",
       "4           4  2022-01-11  Cleves    OH   \n",
       "\n",
       "                                               Title  \\\n",
       "0  2 injured in wrong-way crash on I-275 in Kento...   \n",
       "1  Pedestrian hit, killed in West Chester on Satu...   \n",
       "2  Officials working to determine cause of fiery ...   \n",
       "3  Injuries reported after crash on I-275 in Nort...   \n",
       "4  Covington residents urged to shelter in place ...   \n",
       "\n",
       "                                   Short Description  \\\n",
       "0  KENTON COUNTY, Ky. — Two people were injured i...   \n",
       "1  A spokesperson for West Chester Township said ...   \n",
       "2  KENTON COUNTY, Ky. (WXIX) - The fiery explosio...   \n",
       "3  FT. WRIGHT, Ky. (WKRC) - Injuries were reporte...   \n",
       "4  KENTON COUNTY, Ky. (WXIX) - A shelter-in-place...   \n",
       "\n",
       "                                    Long Description  \\\n",
       "0  KENTON COUNTY, Ky. — Two people were injured i...   \n",
       "1  Read the latest Cincinnati, Ohio news and weat...   \n",
       "2  KENTON COUNTY, Ky. (WXIX) - The fiery explosio...   \n",
       "3  FT. WRIGHT, Ky. (WKRC) - Injuries were reporte...   \n",
       "4  KENTON COUNTY, Ky. (WXIX) - A shelter-in-place...   \n",
       "\n",
       "   Involves cyclist or pedestrian  \\\n",
       "0                           False   \n",
       "1                            True   \n",
       "2                           False   \n",
       "3                           False   \n",
       "4                           False   \n",
       "\n",
       "                                                 URL  \n",
       "0  https://www.newsbreak.com/news/2483276062044/2...  \n",
       "1  https://www.newsbreak.com/news/2483036184238/p...  \n",
       "2  https://www.newsbreak.com/news/2483089711632/o...  \n",
       "3  https://www.newsbreak.com/news/2483307274479/i...  \n",
       "4  https://www.newsbreak.com/news/2482198518315/c...  "
      ]
     },
     "execution_count": 11,
     "metadata": {},
     "output_type": "execute_result"
    }
   ],
   "source": [
    "all_df = pd.read_csv(\"articles-all.csv\")\n",
    "all_df.head()"
   ]
  },
  {
   "cell_type": "code",
   "execution_count": 12,
   "id": "577a11d1",
   "metadata": {},
   "outputs": [
    {
     "data": {
      "text/plain": [
       "(26921, 9)"
      ]
     },
     "execution_count": 12,
     "metadata": {},
     "output_type": "execute_result"
    }
   ],
   "source": [
    "all_df.shape"
   ]
  },
  {
   "cell_type": "code",
   "execution_count": 13,
   "id": "b40123e8",
   "metadata": {},
   "outputs": [],
   "source": [
    "all_df = all_df.rename(columns={'Involves cyclist or pedestrian': 'cyclist_or_ped'})"
   ]
  },
  {
   "cell_type": "markdown",
   "id": "8ff1adeb",
   "metadata": {},
   "source": [
    "Assemble a column with predictions regarding passive/active voice for each headline."
   ]
  },
  {
   "cell_type": "code",
   "execution_count": 14,
   "id": "0d413724",
   "metadata": {},
   "outputs": [],
   "source": [
    "is_passive_column = []\n",
    "for title in all_df[\"Title\"].values:\n",
    "    is_passive_column.append(int(is_passive(title)))\n",
    "all_df[\"passive\"] = is_passive_column"
   ]
  },
  {
   "cell_type": "code",
   "execution_count": 16,
   "id": "3c530b2e",
   "metadata": {},
   "outputs": [
    {
     "name": "stdout",
     "output_type": "stream",
     "text": [
      "Optimization terminated successfully.\n",
      "         Current function value: 0.237945\n",
      "         Iterations 7\n"
     ]
    }
   ],
   "source": [
    "log_reg = smf.logit(\"passive ~ cyclist_or_ped\", data=all_df).fit()"
   ]
  },
  {
   "cell_type": "code",
   "execution_count": 17,
   "id": "24a00258",
   "metadata": {},
   "outputs": [
    {
     "name": "stdout",
     "output_type": "stream",
     "text": [
      "                           Logit Regression Results                           \n",
      "==============================================================================\n",
      "Dep. Variable:                passive   No. Observations:                26921\n",
      "Model:                          Logit   Df Residuals:                    26919\n",
      "Method:                           MLE   Df Model:                            1\n",
      "Date:                Sun, 06 Feb 2022   Pseudo R-squ.:                 0.02550\n",
      "Time:                        11:08:35   Log-Likelihood:                -6405.7\n",
      "converged:                       True   LL-Null:                       -6573.3\n",
      "Covariance Type:            nonrobust   LLR p-value:                 6.993e-75\n",
      "==========================================================================================\n",
      "                             coef    std err          z      P>|z|      [0.025      0.975]\n",
      "------------------------------------------------------------------------------------------\n",
      "Intercept                 -2.7591      0.026   -105.169      0.000      -2.810      -2.708\n",
      "cyclist_or_ped[T.True]     1.6333      0.078     20.808      0.000       1.479       1.787\n",
      "==========================================================================================\n"
     ]
    }
   ],
   "source": [
    "print(log_reg.summary())"
   ]
  },
  {
   "cell_type": "code",
   "execution_count": null,
   "id": "cddc988f",
   "metadata": {},
   "outputs": [],
   "source": []
  }
 ],
 "metadata": {
  "kernelspec": {
   "display_name": "Python 3 (ipykernel)",
   "language": "python",
   "name": "python3"
  },
  "language_info": {
   "codemirror_mode": {
    "name": "ipython",
    "version": 3
   },
   "file_extension": ".py",
   "mimetype": "text/x-python",
   "name": "python",
   "nbconvert_exporter": "python",
   "pygments_lexer": "ipython3",
   "version": "3.10.0"
  }
 },
 "nbformat": 4,
 "nbformat_minor": 5
}
